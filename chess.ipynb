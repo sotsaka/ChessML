{
 "cells": [
  {
   "cell_type": "code",
   "execution_count": 5,
   "metadata": {},
   "outputs": [],
   "source": [
    "import pandas as pd\n",
    "import os\n",
    "import numpy as np"
   ]
  },
  {
   "cell_type": "code",
   "execution_count": null,
   "metadata": {},
   "outputs": [],
   "source": [
    "[os.remove(os.path.join(\".\",\"gamesRaw\",str(x))) for x in os.listdir(\"gamesRaw\") if x[-4:] == \".txt\"]"
   ]
  },
  {
   "cell_type": "code",
   "execution_count": 6,
   "metadata": {},
   "outputs": [],
   "source": [
    "# df = pd.read_csv(\"games.csv\", usecols = ['winner', 'opening_eco', 'opening_ply'])\n",
    "# df[\"winner\"].replace({\"white\": 1, \"black\": 0, \"draw\": 0.5}, inplace=True)\n",
    "# df[\"opening_eco_ori\"] = df[\"opening_eco\"]\n",
    "# for i in range(len(df[\"opening_eco\"].unique())):\n",
    "#     df[\"opening_eco\"].replace({df[\"opening_eco\"].unique()[i]: i}, inplace=True)\n",
    "# tresh = 50\n",
    "# list_to_keep = df[\"opening_eco\"].value_counts() >= tresh\n",
    "# for i, j  in list_to_keep.iteritems():\n",
    "#     if not j:\n",
    "#         df = df.drop(df[df[\"opening_eco\"] == i].index)\n",
    "# df.to_csv(\"game_pre.csv\")"
   ]
  },
  {
   "cell_type": "code",
   "execution_count": 12,
   "metadata": {},
   "outputs": [],
   "source": [
    "#df = pd.read_csv(\"games.csv\", usecols = ['winner', 'opening_eco', 'opening_ply'])"
   ]
  },
  {
   "cell_type": "markdown",
   "metadata": {},
   "source": [
    "# Create Dataset"
   ]
  },
  {
   "cell_type": "code",
   "execution_count": 4,
   "metadata": {},
   "outputs": [
    {
     "name": "stdout",
     "output_type": "stream",
     "text": [
      "GM 1451\n",
      "IM 3407\n",
      "FM 6537\n",
      "CM 7590\n"
     ]
    }
   ],
   "source": [
    "import requests\n",
    "import json\n",
    "players = []\n",
    "for title in [\"GM\", \"IM\", \"FM\", \"CM\"]:\n",
    "    r = requests.get('https://api.chess.com/pub/titled/{0}'.format(title))\n",
    "    players = players + json.loads(str(r.json()).replace(\"\\'\",\"\\\"\"))[\"players\"]\n",
    "    print(title, len(players))"
   ]
  },
  {
   "cell_type": "code",
   "execution_count": 3,
   "metadata": {},
   "outputs": [
    {
     "ename": "SyntaxError",
     "evalue": "illegal target for annotation (1571951862.py, line 2)",
     "output_type": "error",
     "traceback": [
      "\u001b[1;36m  Cell \u001b[1;32mIn [3], line 2\u001b[1;36m\u001b[0m\n\u001b[1;33m    1 : white win, black lose\u001b[0m\n\u001b[1;37m    ^\u001b[0m\n\u001b[1;31mSyntaxError\u001b[0m\u001b[1;31m:\u001b[0m illegal target for annotation\n"
     ]
    }
   ],
   "source": [
    "dict_keys(['url', 'move_by','time_control', 'last_activity', 'rated', 'turn', 'fen', 'start_time', 'time_class', 'rules', 'white', 'black', 'tournament'])\n",
    "1 : white win, black lose\n",
    "-1 : black win, white lose\n",
    "0 : draw\n"
   ]
  },
  {
   "cell_type": "code",
   "execution_count": 104,
   "metadata": {},
   "outputs": [],
   "source": [
    "dico_col = {'a': 7, 'b': 6, 'c': 5, 'd': 4, 'e': 3, 'f': 2, 'g': 1, 'h': 0}"
   ]
  },
  {
   "cell_type": "code",
   "execution_count": 5,
   "metadata": {},
   "outputs": [
    {
     "name": "stdout",
     "output_type": "stream",
     "text": [
      "427641\n"
     ]
    }
   ],
   "source": [
    "import chess.pgn\n",
    "import io\n",
    "game_number = 0\n",
    "\n",
    "for player in players:\n",
    "    r = requests.get(\"https://api.chess.com/pub/player/{0}/games/2022/08\".format(player))\n",
    "    games = r.json()[\"games\"]\n",
    "    if games != []:\n",
    "        for game in games:\n",
    "            if \"end_time\" in game.keys() and game[\"rated\"]:\n",
    "                game_number +=1 \n",
    "                if game[\"white\"][\"result\"] == \"win\":\n",
    "                    won = 1\n",
    "                elif game[\"black\"][\"result\"] == \"win\":\n",
    "                    won = -1\n",
    "                else:\n",
    "                    won = 0\n",
    "                if \"pgn\" in game.keys():\n",
    "                    pgn = io.StringIO(game[\"pgn\"])\n",
    "                    gamepgn = chess.pgn.read_game(pgn)\n",
    "                    board = gamepgn.board()\n",
    "                    plate_number = 0\n",
    "                    with open(os.path.join(\"gamesRaw\", str(game_number) + \".txt\"), \"w\") as f:\n",
    "                        json_tmp = {\"won\": str(won), \"boards\": {}}\n",
    "                        for move in gamepgn.mainline_moves():\n",
    "                            board.push(move)\n",
    "                            plate_number += 1\n",
    "                            if plate_number >= 10:\n",
    "                                boardstr = str(board).replace(\"p\",\"1\").replace(\"r\",\"5\").replace(\"n\",\"3,0000001\").replace(\"b\", \"3\").replace(\"q\", \"8\").replace(\"k\", \"2\")\n",
    "                                boardstr = boardstr.replace(\"P\",\"-1\").replace(\"R\",\"-5\").replace(\"N\",\"-3,0000001\").replace(\"B\", \"-3\").replace(\"Q\", \"-8\").replace(\"K\", \"-2\")\n",
    "                                boardstr = boardstr.replace(\".\",\"0\")\n",
    "                                json_tmp[\"boards\"][plate_number] = str(boardstr)\n",
    "                        json.dump(json_tmp, f)\n",
    "print(game_number)"
   ]
  },
  {
   "cell_type": "markdown",
   "metadata": {
    "tags": []
   },
   "source": [
    "# Model"
   ]
  },
  {
   "cell_type": "code",
   "execution_count": 10,
   "metadata": {},
   "outputs": [
    {
     "name": "stderr",
     "output_type": "stream",
     "text": [
      "2022-09-18 20:56:39.735802: W tensorflow/stream_executor/platform/default/dso_loader.cc:64] Could not load dynamic library 'libcudart.so.11.0'; dlerror: libcudart.so.11.0: cannot open shared object file: No such file or directory\n",
      "2022-09-18 20:56:39.735867: I tensorflow/stream_executor/cuda/cudart_stub.cc:29] Ignore above cudart dlerror if you do not have a GPU set up on your machine.\n",
      "2022-09-18 20:56:40.431013: E tensorflow/stream_executor/cuda/cuda_blas.cc:2981] Unable to register cuBLAS factory: Attempting to register factory for plugin cuBLAS when one has already been registered\n",
      "2022-09-18 20:56:51.713072: W tensorflow/stream_executor/platform/default/dso_loader.cc:64] Could not load dynamic library 'libnvinfer.so.7'; dlerror: libnvinfer.so.7: cannot open shared object file: No such file or directory\n",
      "2022-09-18 20:56:51.713283: W tensorflow/stream_executor/platform/default/dso_loader.cc:64] Could not load dynamic library 'libnvinfer_plugin.so.7'; dlerror: libnvinfer_plugin.so.7: cannot open shared object file: No such file or directory\n",
      "2022-09-18 20:56:51.713304: W tensorflow/compiler/tf2tensorrt/utils/py_utils.cc:38] TF-TRT Warning: Cannot dlopen some TensorRT libraries. If you would like to use Nvidia GPU with TensorRT, please make sure the missing libraries mentioned above are installed properly.\n"
     ]
    }
   ],
   "source": [
    "import keras\n",
    "from random import shuffle"
   ]
  },
  {
   "cell_type": "code",
   "execution_count": 11,
   "metadata": {},
   "outputs": [
    {
     "name": "stderr",
     "output_type": "stream",
     "text": [
      "2022-09-18 20:57:01.577601: W tensorflow/stream_executor/platform/default/dso_loader.cc:64] Could not load dynamic library 'libcuda.so.1'; dlerror: libcuda.so.1: cannot open shared object file: No such file or directory\n",
      "2022-09-18 20:57:01.591244: W tensorflow/stream_executor/cuda/cuda_driver.cc:263] failed call to cuInit: UNKNOWN ERROR (303)\n",
      "2022-09-18 20:57:01.591310: I tensorflow/stream_executor/cuda/cuda_diagnostics.cc:156] kernel driver does not appear to be running on this host (sotsaka-HP): /proc/driver/nvidia/version does not exist\n"
     ]
    },
    {
     "name": "stdout",
     "output_type": "stream",
     "text": [
      "Model: \"sequential\"\n",
      "_________________________________________________________________\n",
      " Layer (type)                Output Shape              Param #   \n",
      "=================================================================\n",
      " dense (Dense)               (None, 64)                4160      \n",
      "                                                                 \n",
      " dense_1 (Dense)             (None, 8)                 520       \n",
      "                                                                 \n",
      " dense_2 (Dense)             (None, 1)                 9         \n",
      "                                                                 \n",
      "=================================================================\n",
      "Total params: 4,689\n",
      "Trainable params: 4,689\n",
      "Non-trainable params: 0\n",
      "_________________________________________________________________\n"
     ]
    }
   ],
   "source": [
    "model = keras.Sequential()\n",
    "model.add(keras.Input(shape=(64)))\n",
    "model.add(keras.layers.Dense(64))\n",
    "model.add(keras.layers.Dense(8))\n",
    "model.add(keras.layers.Dense(1, activation='sigmoid'))\n",
    "model.compile(  optimizer=keras.optimizers.Adam(learning_rate=0.5),\n",
    "                loss=keras.losses.CategoricalCrossentropy(),\n",
    "                metrics=[keras.metrics.CategoricalAccuracy()])\n",
    "model.summary()                  "
   ]
  },
  {
   "cell_type": "code",
   "execution_count": 28,
   "metadata": {},
   "outputs": [
    {
     "name": "stdout",
     "output_type": "stream",
     "text": [
      "34\n"
     ]
    }
   ],
   "source": [
    "print(len(l))"
   ]
  },
  {
   "cell_type": "code",
   "execution_count": 31,
   "metadata": {},
   "outputs": [
    {
     "name": "stdout",
     "output_type": "stream",
     "text": [
      "(34, 64)\n"
     ]
    }
   ],
   "source": [
    "print(np.shape(m))"
   ]
  },
  {
   "cell_type": "markdown",
   "metadata": {},
   "source": [
    "# Load data"
   ]
  },
  {
   "cell_type": "code",
   "execution_count": 1,
   "metadata": {},
   "outputs": [],
   "source": [
    "import os\n",
    "import json\n",
    "import sklearn\n",
    "import numpy as np\n",
    "from alive_progress import alive_bar"
   ]
  },
  {
   "cell_type": "code",
   "execution_count": 2,
   "metadata": {},
   "outputs": [],
   "source": [
    "files = [x for x in os.listdir(\"gamesRaw\") if x[-4:] == \".txt\"]"
   ]
  },
  {
   "cell_type": "code",
   "execution_count": 3,
   "metadata": {},
   "outputs": [
    {
     "name": "stdout",
     "output_type": "stream",
     "text": [
      "420855\n"
     ]
    }
   ],
   "source": [
    "print(len(files))"
   ]
  },
  {
   "cell_type": "code",
   "execution_count": 4,
   "metadata": {},
   "outputs": [],
   "source": [
    "def file_to_matrix(filename):\n",
    "    content = json.load(open(filename))\n",
    "    liste_de_matrix = []\n",
    "    labels = []\n",
    "    for mat in content['boards'].values():\n",
    "        z = np.zeros(shape=(8,8))\n",
    "        for i in range(len(mat.split(\"\\n\"))):\n",
    "            for j in range(len(mat.split(\"\\n\")[i].split(\" \"))):\n",
    "                z[i,j] = float(mat.split(\"\\n\")[i].split(\" \")[j].replace(\",\",\".\"))\n",
    "        liste_de_matrix.append(z.flatten())\n",
    "        labels.append(np.array([float(content['won'])]))\n",
    "    return np.array(liste_de_matrix), np.array(labels)"
   ]
  },
  {
   "cell_type": "code",
   "execution_count": 5,
   "metadata": {},
   "outputs": [
    {
     "name": "stdout",
     "output_type": "stream",
     "text": [
      "100.0 %%%% % %\r"
     ]
    }
   ],
   "source": [
    "l = 0\n",
    "files = [x for x in os.listdir(\"gamesRaw\") if x[-4:] == \".txt\"]\n",
    "lenfiles = len(files)\n",
    "for file in files:\n",
    "    l+=1\n",
    "    print(np.floor(l*1000/lenfiles)/10, \"%\", end=\"\\r\")"
   ]
  },
  {
   "cell_type": "code",
   "execution_count": 5,
   "metadata": {},
   "outputs": [
    {
     "name": "stdout",
     "output_type": "stream",
     "text": [
      "11.8 %\r"
     ]
    },
    {
     "ename": "AttributeError",
     "evalue": "module 'sklearn' has no attribute 'model_selection'",
     "output_type": "error",
     "traceback": [
      "\u001b[0;31m---------------------------------------------------------------------------\u001b[0m",
      "\u001b[0;31mAttributeError\u001b[0m                            Traceback (most recent call last)",
      "Cell \u001b[0;32mIn [5], line 17\u001b[0m\n\u001b[1;32m     14\u001b[0m matrixs \u001b[38;5;241m=\u001b[39m np\u001b[38;5;241m.\u001b[39marray(matrixs)\n\u001b[1;32m     15\u001b[0m labels \u001b[38;5;241m=\u001b[39m np\u001b[38;5;241m.\u001b[39marray(labels)\n\u001b[0;32m---> 17\u001b[0m Xtrain, Xtest \u001b[38;5;241m=\u001b[39m \u001b[43msklearn\u001b[49m\u001b[38;5;241;43m.\u001b[39;49m\u001b[43mmodel_selection\u001b[49m\u001b[38;5;241m.\u001b[39mtrain_test_split(matrixs, test_size\u001b[38;5;241m=\u001b[39m\u001b[38;5;241m2\u001b[39m\u001b[38;5;241m/\u001b[39m\u001b[38;5;241m9\u001b[39m, train_size\u001b[38;5;241m=\u001b[39m\u001b[38;5;241m7\u001b[39m\u001b[38;5;241m/\u001b[39m\u001b[38;5;241m9\u001b[39m, shuffle\u001b[38;5;241m=\u001b[39m\u001b[38;5;28;01mFalse\u001b[39;00m)\n\u001b[1;32m     18\u001b[0m Ytrain, Ytest \u001b[38;5;241m=\u001b[39m sklearn\u001b[38;5;241m.\u001b[39mmodel_selection\u001b[38;5;241m.\u001b[39mtrain_test_split(labels, test_size\u001b[38;5;241m=\u001b[39m\u001b[38;5;241m2\u001b[39m\u001b[38;5;241m/\u001b[39m\u001b[38;5;241m9\u001b[39m, train_size\u001b[38;5;241m=\u001b[39m\u001b[38;5;241m7\u001b[39m\u001b[38;5;241m/\u001b[39m\u001b[38;5;241m9\u001b[39m, shuffle\u001b[38;5;241m=\u001b[39m\u001b[38;5;28;01mFalse\u001b[39;00m)\n\u001b[1;32m     20\u001b[0m \u001b[38;5;28mprint\u001b[39m(np\u001b[38;5;241m.\u001b[39mshape(matrixs))\n",
      "\u001b[0;31mAttributeError\u001b[0m: module 'sklearn' has no attribute 'model_selection'"
     ]
    }
   ],
   "source": [
    "matrixs = []\n",
    "labels = []\n",
    "l = 0\n",
    "lenfiles = len(files)\n",
    "for file in sorted(files)[:50000]:\n",
    "    matrixs_tmp, labels_tmp = file_to_matrix(os.path.join(\"gamesRaw\", file))\n",
    "    [matrixs.append(mat) for mat in matrixs_tmp]\n",
    "    [labels.append(mat) for mat in labels_tmp]\n",
    "    l+=1\n",
    "    print(np.floor(l*1000/lenfiles)/10, \"%\", end=\"\\r\")"
   ]
  },
  {
   "cell_type": "code",
   "execution_count": 6,
   "metadata": {},
   "outputs": [],
   "source": [
    "matrixs = np.array(matrixs)\n",
    "labels = np.array(labels)"
   ]
  },
  {
   "cell_type": "code",
   "execution_count": 8,
   "metadata": {},
   "outputs": [],
   "source": [
    "from sklearn.model_selection import train_test_split\n",
    "Xtrain, Xtest = train_test_split(matrixs, test_size=2/9, train_size=7/9, shuffle=False)\n",
    "Ytrain, Ytest = train_test_split(labels, test_size=2/9, train_size=7/9, shuffle=False)"
   ]
  },
  {
   "cell_type": "code",
   "execution_count": null,
   "metadata": {},
   "outputs": [
    {
     "name": "stderr",
     "output_type": "stream",
     "text": [
      "2022-09-18 20:57:03.272929: W tensorflow/core/framework/cpu_allocator_impl.cc:82] Allocation of 731299840 exceeds 10% of free system memory.\n"
     ]
    },
    {
     "name": "stdout",
     "output_type": "stream",
     "text": [
      "Epoch 1/10\n"
     ]
    },
    {
     "name": "stderr",
     "output_type": "stream",
     "text": [
      "2022-09-18 20:57:14.510581: W tensorflow/core/framework/cpu_allocator_impl.cc:82] Allocation of 22853120 exceeds 10% of free system memory.\n",
      "2022-09-18 20:57:14.548774: W tensorflow/core/framework/cpu_allocator_impl.cc:82] Allocation of 22853120 exceeds 10% of free system memory.\n",
      "2022-09-18 20:57:16.995036: W tensorflow/core/framework/cpu_allocator_impl.cc:82] Allocation of 22853120 exceeds 10% of free system memory.\n",
      "2022-09-18 20:57:17.014744: W tensorflow/core/framework/cpu_allocator_impl.cc:82] Allocation of 22853120 exceeds 10% of free system memory.\n"
     ]
    },
    {
     "name": "stdout",
     "output_type": "stream",
     "text": [
      "89270/89270 [==============================] - 96s 1ms/step - loss: 0.0000e+00 - categorical_accuracy: 1.0000\n",
      "Epoch 2/10\n",
      "89270/89270 [==============================] - 94s 1ms/step - loss: 0.0000e+00 - categorical_accuracy: 1.0000\n",
      "Epoch 3/10\n",
      "33083/89270 [==========>...................] - ETA: 58s - loss: 0.0000e+00 - categorical_accuracy: 1.0000"
     ]
    }
   ],
   "source": [
    "model.fit(x = Xtrain, y=Ytrain, epochs=10)"
   ]
  },
  {
   "cell_type": "code",
   "execution_count": 75,
   "metadata": {},
   "outputs": [
    {
     "name": "stdout",
     "output_type": "stream",
     "text": [
      "4/4 [==============================] - 0s 2ms/step\n"
     ]
    },
    {
     "data": {
      "text/plain": [
       "(array([[0.],\n",
       "        [0.],\n",
       "        [0.],\n",
       "        [0.],\n",
       "        [0.],\n",
       "        [0.],\n",
       "        [0.],\n",
       "        [0.],\n",
       "        [0.],\n",
       "        [0.],\n",
       "        [0.],\n",
       "        [0.],\n",
       "        [0.],\n",
       "        [0.],\n",
       "        [0.],\n",
       "        [0.],\n",
       "        [0.],\n",
       "        [0.],\n",
       "        [0.],\n",
       "        [0.],\n",
       "        [0.],\n",
       "        [0.],\n",
       "        [0.],\n",
       "        [0.],\n",
       "        [0.],\n",
       "        [0.],\n",
       "        [0.],\n",
       "        [0.],\n",
       "        [0.],\n",
       "        [0.],\n",
       "        [0.],\n",
       "        [0.],\n",
       "        [0.],\n",
       "        [0.],\n",
       "        [0.],\n",
       "        [0.],\n",
       "        [0.],\n",
       "        [0.],\n",
       "        [0.],\n",
       "        [0.],\n",
       "        [0.],\n",
       "        [0.],\n",
       "        [0.],\n",
       "        [0.],\n",
       "        [0.],\n",
       "        [0.],\n",
       "        [0.],\n",
       "        [0.],\n",
       "        [0.],\n",
       "        [0.],\n",
       "        [0.],\n",
       "        [0.],\n",
       "        [0.],\n",
       "        [0.],\n",
       "        [0.],\n",
       "        [0.],\n",
       "        [0.],\n",
       "        [0.],\n",
       "        [0.],\n",
       "        [0.],\n",
       "        [0.],\n",
       "        [0.],\n",
       "        [0.],\n",
       "        [0.],\n",
       "        [0.],\n",
       "        [0.],\n",
       "        [0.],\n",
       "        [0.],\n",
       "        [0.],\n",
       "        [0.],\n",
       "        [0.],\n",
       "        [0.],\n",
       "        [0.],\n",
       "        [0.],\n",
       "        [0.],\n",
       "        [0.],\n",
       "        [0.],\n",
       "        [0.],\n",
       "        [0.],\n",
       "        [0.],\n",
       "        [0.],\n",
       "        [0.],\n",
       "        [0.],\n",
       "        [0.],\n",
       "        [0.],\n",
       "        [0.],\n",
       "        [0.],\n",
       "        [0.],\n",
       "        [0.],\n",
       "        [0.],\n",
       "        [1.],\n",
       "        [0.],\n",
       "        [0.],\n",
       "        [0.],\n",
       "        [0.],\n",
       "        [0.],\n",
       "        [0.],\n",
       "        [0.],\n",
       "        [0.],\n",
       "        [0.],\n",
       "        [0.]], dtype=float32),\n",
       " array([[-1.],\n",
       "        [-1.],\n",
       "        [-1.],\n",
       "        [-1.],\n",
       "        [-1.],\n",
       "        [-1.],\n",
       "        [-1.],\n",
       "        [-1.],\n",
       "        [-1.],\n",
       "        [-1.],\n",
       "        [-1.],\n",
       "        [-1.],\n",
       "        [-1.],\n",
       "        [-1.],\n",
       "        [-1.],\n",
       "        [-1.],\n",
       "        [-1.],\n",
       "        [-1.],\n",
       "        [-1.],\n",
       "        [-1.],\n",
       "        [-1.],\n",
       "        [-1.],\n",
       "        [-1.],\n",
       "        [-1.],\n",
       "        [-1.],\n",
       "        [-1.],\n",
       "        [-1.],\n",
       "        [-1.],\n",
       "        [-1.],\n",
       "        [-1.],\n",
       "        [-1.],\n",
       "        [-1.],\n",
       "        [-1.],\n",
       "        [-1.],\n",
       "        [-1.],\n",
       "        [-1.],\n",
       "        [-1.],\n",
       "        [-1.],\n",
       "        [-1.],\n",
       "        [-1.],\n",
       "        [-1.],\n",
       "        [-1.],\n",
       "        [-1.],\n",
       "        [-1.],\n",
       "        [-1.],\n",
       "        [-1.],\n",
       "        [-1.],\n",
       "        [-1.],\n",
       "        [-1.],\n",
       "        [-1.],\n",
       "        [-1.],\n",
       "        [-1.],\n",
       "        [-1.],\n",
       "        [-1.],\n",
       "        [-1.],\n",
       "        [-1.],\n",
       "        [-1.],\n",
       "        [-1.],\n",
       "        [-1.],\n",
       "        [-1.],\n",
       "        [-1.],\n",
       "        [-1.],\n",
       "        [-1.],\n",
       "        [-1.],\n",
       "        [-1.],\n",
       "        [-1.],\n",
       "        [-1.],\n",
       "        [-1.],\n",
       "        [-1.],\n",
       "        [-1.],\n",
       "        [-1.],\n",
       "        [-1.],\n",
       "        [-1.],\n",
       "        [-1.],\n",
       "        [-1.],\n",
       "        [-1.],\n",
       "        [-1.],\n",
       "        [-1.],\n",
       "        [-1.],\n",
       "        [-1.],\n",
       "        [-1.],\n",
       "        [-1.],\n",
       "        [-1.],\n",
       "        [-1.],\n",
       "        [-1.],\n",
       "        [-1.],\n",
       "        [-1.],\n",
       "        [-1.],\n",
       "        [-1.],\n",
       "        [-1.],\n",
       "        [-1.],\n",
       "        [-1.],\n",
       "        [-1.],\n",
       "        [-1.],\n",
       "        [-1.],\n",
       "        [-1.],\n",
       "        [-1.],\n",
       "        [-1.],\n",
       "        [-1.],\n",
       "        [-1.],\n",
       "        [-1.]]))"
      ]
     },
     "execution_count": 75,
     "metadata": {},
     "output_type": "execute_result"
    }
   ],
   "source": [
    "from sklearn.metrics import accuracy_score\n",
    "y = model.predict(Xtest)\n",
    "accuracy_score(y, Ytest)"
   ]
  }
 ],
 "metadata": {
  "kernelspec": {
   "display_name": "Python 3 (ipykernel)",
   "language": "python",
   "name": "python3"
  },
  "language_info": {
   "codemirror_mode": {
    "name": "ipython",
    "version": 3
   },
   "file_extension": ".py",
   "mimetype": "text/x-python",
   "name": "python",
   "nbconvert_exporter": "python",
   "pygments_lexer": "ipython3",
   "version": "3.10.4"
  },
  "vscode": {
   "interpreter": {
    "hash": "062dcd8ca74ce53cbcd02fb535cd06fb6e9ba76ec1a75983a2128125f5769f88"
   }
  }
 },
 "nbformat": 4,
 "nbformat_minor": 4
}
